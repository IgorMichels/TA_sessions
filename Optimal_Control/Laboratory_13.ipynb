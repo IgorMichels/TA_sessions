{
 "cells": [
  {
   "cell_type": "markdown",
   "metadata": {},
   "source": [
    "# Epidemic Model "
   ]
  },
  {
   "cell_type": "markdown",
   "metadata": {},
   "source": [
    "        In this lab, we use optimal control techniques to find a vaccination schedule for an epidemic disease. \n",
    "        Our goal is to minimize the number of infectious persons and the overall cost of the vaccine during a fixed time period."
   ]
  },
  {
   "cell_type": "markdown",
   "metadata": {},
   "source": [
    "### Modelo Escolhido (SEIR)\n",
    "\n",
    "        Our model considers three compartiments that represent three groups over the population, each one is considered homogeneous. Let $S(t), R(t)$ and $I(t)$ be the groups representing susceptible, recovered (immune) and infectious (note the difference from infecteds).\n",
    "        The SEIR Model allows a incubation period foir the disease, and the infected person remains latent for some time before becoming infectious. Let $E(t)$ be this number. $N(t) = S(t) + R(t) + I(t) + E(t)$. \n",
    "        Let $u(t)$ be the control that represents the percentage of susceptible individuals being vaccinated per unit of time. $0 \\leq u(t) \\leq 0.9$. $b$ is the natural exponential birth rate and $d$ natural death. The incidence pf the disease is $cS(t)I(t)$ and $e$ is the tate at which the exposed infividual become infectious. And $g$ the recover rate. "
   ]
  },
  {
   "cell_type": "markdown",
   "metadata": {},
   "source": [
    "$$ min_u \\int_0^T AI(t) + u(t)^2 dt \\iff max_u \\int_0^T - AI(t) - u(t)^2 dt $$ \n",
    "\n",
    "$$ s.a ~~ S'(t) = bN(t) - dS(t) - cS(t)I(t) - u(t)S(t), S(0) = S_0 \\geq 0 $$\n",
    "\n",
    "$$ E'(t) = cS(t)I(t) - (e + d)E(t), E(0) = E_0 \\geq 0 $$\n",
    "\n",
    "$$I'(t) = eE(t) - (g + a + d)I(t), I(0) = I_0 \\geq 0$$\n",
    "\n",
    "$$R'(t) = gI(t) - dR(t) + u(t)S(t), R(0) = R_0 \\geq 0$$\n",
    "\n",
    "$$N'(t) = (b - d)N(t) - aI(t), N(0) = N_0$$\n",
    "\n",
    "$$0\\leq u(t) \\leq 0.9$$"
   ]
  },
  {
   "cell_type": "markdown",
   "metadata": {},
   "source": [
    "## Functions"
   ]
  },
  {
   "cell_type": "code",
   "execution_count": 2,
   "metadata": {},
   "outputs": [],
   "source": [
    "f = lambda A,I,u: - A*I - u**2\n",
    "g_S = lambda b,c,d,S,E,I,R,u: b*(S + E + I + R) - d*S - c*S*I - u*S\n",
    "g_E = lambda c,e,d,S,E,I,R,u: c*S*I - (e + d)*E\n",
    "g_I = lambda a,d,e,g,S,E,I,R,u: e*E - (g + a + d)*I\n",
    "g_R = lambda d,g,S,E,I,R,u: g*I - d*R + u*S "
   ]
  },
  {
   "cell_type": "markdown",
   "metadata": {},
   "source": [
    "Sejam $\\lambda_1(t),\\lambda_2(t),\\lambda_3(t),\\lambda_4(t)$ funções deriváveis por partes\n",
    "   \n",
    "$\\frac{\\partial H}{\\partial S} = \\lambda_1(b - d - cI - u) + \\lambda_2(cI) + \\lambda_4(u) = - \\lambda_1'(t)$\n",
    "\n",
    "$\\frac{\\partial H}{\\partial E} = \\lambda_1(b) - \\lambda_2(e + d) + \\lambda_3(e) = - \\lambda_2'(t)$\n",
    "\n",
    "$\\frac{\\partial H}{\\partial I} = - A + \\lambda_1(b - cS) + \\lambda_2(cS) - \\lambda_3(g + a + d) + \\lambda_4(g) = - \\lambda_3'(t)$\n",
    "\n",
    "$\\frac{\\partial H}{\\partial R} = \\lambda_1(b) - \\lambda_4(d) = - \\lambda_4'(t)$\n",
    "\n",
    "Note que $\\lambda_1(1) = \\lambda_2(1) = \\lambda_3(1) = \\lambda_4(1) = 0 $"
   ]
  },
  {
   "cell_type": "markdown",
   "metadata": {},
   "source": [
    "$\\frac{\\partial H}{\\partial u} = -2u - \\lambda_1(S) + \\lambda_4(S)$"
   ]
  },
  {
   "cell_type": "markdown",
   "metadata": {},
   "source": [
    "$\\frac{\\partial H}{\\partial u} < 0 \\Rightarrow u(t) = 0 \\Rightarrow -2u - \\lambda_1(S) + \\lambda_4(S) < 0 \\Rightarrow S(\\lambda_4 - \\lambda_1) < 0 \\Rightarrow \\frac{1}{2}S(\\lambda_4 - \\lambda_1) < 0 $\n",
    "\n",
    "$\\frac{\\partial H}{\\partial u} > 0 \\Rightarrow u(t) = 0.9 \\Rightarrow -2u - \\lambda_1(S) + \\lambda_4(S) > 0 \\Rightarrow S(\\lambda_4 - \\lambda_1) > 1.8 \\Rightarrow \\frac{1}{2}S(\\lambda_4 - \\lambda_1) > 0.9$\n",
    "\n",
    "$\\frac{\\partial H}{\\partial u} = 0 \\Rightarrow 0 \\leq u(t) \\leq 0.9 \\Rightarrow -2u - \\lambda_1(S) + \\lambda_4(S) = 0 \\Rightarrow u(t) = \\frac{1}{2}S(\\lambda_4 - \\lambda_1) \\Rightarrow 0 \\leq \\frac{1}{2}S(\\lambda_4 - \\lambda_1) \\leq 0.9$"
   ]
  },
  {
   "cell_type": "markdown",
   "metadata": {},
   "source": [
    "Portanto $u^*(t) = \\max(0, \\min(\\frac{1}{2}S(\\lambda_4 - \\lambda_1),0.9)) $"
   ]
  },
  {
   "cell_type": "code",
   "execution_count": 3,
   "metadata": {},
   "outputs": [],
   "source": [
    "class solve:\n",
    "    \n",
    "    def __init__(self,A,a,b,c,d,e,g,T,S0,E0,I0,R0):\n",
    "        \n",
    "        self.A = A\n",
    "        self.a = a\n",
    "        self.b = b\n",
    "        self.c = c\n",
    "        self.d = d\n",
    "        self.e = e\n",
    "        self.g = g\n",
    "        self.T = T\n",
    "        self.S0 = S0\n",
    "        self.E0 = E0\n",
    "        self.I0 = I0\n",
    "        self.R0 = R0\n",
    "        \n",
    "    Fu = lambda S,E,I,R,u,adj: max(0,min(1/2*S*(adj[3] - adj[0]),0.9))\n",
    "        \n",
    "    g_S = lambda S,E,I,R,u: self.b*(S + E + I + R) - self.d*S - self.c*S*I - u*S\n",
    "    g_E = lambda S,E,I,R,u: self.c*S*I - (self.e + self.d)*E\n",
    "    g_I = lambda S,E,I,R,u: self.e*E - (self.g + self.a + self.d)*I\n",
    "    g_R = lambda S,E,I,R,u: self.g*I - self.d*R + u*S\n",
    "    \n",
    "    dadj1 = lambda S,E,I,R,u,adj: -adj[0]*(self.b - self.d - self.c*I - u) + -adj[1]*self.c*I - adj[3]*u\n",
    "    dadj2 = lambda S,E,I,R,u,adj: -adj[0]*self.b + adj[1]*(self.e + self.d) - adj[2]*self.e\n",
    "    dadj3 = lambda S,E,I,R,u,adj: self.A - adj[0]*(self.b - self.c*S) - adj[1]*self.c*S + \n",
    "                                  adj[2]*(self.g + self.a + self.d) - adj[3]*g \n",
    "    dadj4 = lambda S,E,I,R,u,adj: -adj[0]*b + adj[3]*d \n",
    "    \n",
    "    def runge_kutta_state(self,t,S,E,I,R,adj,N,h):\n",
    "\n",
    "        for i in range(N):\n",
    "            \n",
    "            k1 = self.dx(t[k],x[k],adj[k])\n",
    "            k2 = self.dx(t[k]+h/2,x[k] + h*k1/2,adj[k])\n",
    "            k3 = self.dx(t[k]+h/2,x[k]+h*k2/2,adj[k])\n",
    "            k4 = self.dx(t[k] + h, x[k] + h*k3, adj[k])\n",
    "            x[k+1] = x[k] + (h/6)*(k1 + 2*k2 + 2*k3 + k4)\n",
    "        return x\n",
    "\n",
    "    def runge_kutta_adj(self,t,S,E,I,R,adj,N,h):\n",
    "    \n",
    "        for k in range(N,0,-1):\n",
    "            k1 = self.dadj(t[k],x[k],adj[k])\n",
    "            k2 = self.dadj(t[k] - h/2,x[k],adj[k] + h*k1/2)\n",
    "            k3 = self.dadj(t[k] - h/2,x[k],adj[k]+h*k2/2)\n",
    "            k4 = self.dadj(t[k] - h, x[k],adj[k] + h*k3)\n",
    "            adj[k-1] = adj[k] - (h/6)*(k1 + 2*k2 + 2*k3 + k4)\n",
    "        return adj"
   ]
  },
  {
   "cell_type": "code",
   "execution_count": null,
   "metadata": {},
   "outputs": [],
   "source": []
  }
 ],
 "metadata": {
  "kernelspec": {
   "display_name": "Python 3",
   "language": "python",
   "name": "python3"
  },
  "language_info": {
   "codemirror_mode": {
    "name": "ipython",
    "version": 3
   },
   "file_extension": ".py",
   "mimetype": "text/x-python",
   "name": "python",
   "nbconvert_exporter": "python",
   "pygments_lexer": "ipython3",
   "version": "3.7.3"
  }
 },
 "nbformat": 4,
 "nbformat_minor": 2
}
