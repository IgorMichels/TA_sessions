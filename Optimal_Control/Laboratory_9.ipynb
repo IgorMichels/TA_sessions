{
 "cells": [
  {
   "cell_type": "markdown",
   "metadata": {},
   "source": [
    "# Laboratório 9"
   ]
  },
  {
   "cell_type": "markdown",
   "metadata": {},
   "source": [
    "## Bounded Case"
   ]
  },
  {
   "cell_type": "markdown",
   "metadata": {},
   "source": [
    "Now, I will examine the following model\n",
    "\n",
    "$$\\begin{equation}\n",
    "    \\max_u \\int_0^1 Ax(t) - u(t)^2 dt \\\\\n",
    "    s.a ~ x'(t) = -\\frac{1}{2}x(t)^2 + Cu(t), x(0) = x_0 > -2, \\\\\n",
    "    M_1 \\leq u(t) \\leq M_2, A \\geq 0\n",
    "\\end{equation}$$"
   ]
  },
  {
   "cell_type": "markdown",
   "metadata": {},
   "source": [
    "To solve this problem, we have to think about the necessary conditions. Note that $f$ and $g$ are concaves in $x$ and $u$. If we prove $\\lambda(t) \\geq 0$, it exists $u^*(t)$. \n",
    "\n",
    "$H(t,x,u,\\lambda) = Ax(t) - u(t)^2 - \\frac{1}{2}\\lambda(t)x(t)^2 + C\\lambda(t)u(t)$"
   ]
  },
  {
   "cell_type": "markdown",
   "metadata": {},
   "source": [
    "$\\frac{\\partial H}{\\partial x} = A - \\lambda(t)x(t) = -\\lambda'(t) \\implies \\lambda'(t) = \\lambda(t)x(t) - A, \\lambda(1) = 0 $\n",
    "\n",
    "$\\frac{\\partial H}{\\partial u} = -2u(t) + C\\lambda(t)$"
   ]
  },
  {
   "cell_type": "markdown",
   "metadata": {},
   "source": [
    "$\\frac{\\partial H}{\\partial u} < 0 ~at~ t \\implies u(t) = M_1 \\implies M_1 > \\frac{C\\lambda(t)}{2} \\\\\n",
    "\\frac{\\partial H}{\\partial u} = 0 ~at~ t \\implies u(t) = \\frac{C\\lambda(t)}{2} \\implies M_1 \\leq \\frac{C\\lambda(t)}{2} \\leq M_2 \\\\\n",
    "\\frac{\\partial H}{\\partial u} > 0 ~at~ t \\implies u(t) = M_2 \\implies M_2 < \\frac{C\\lambda(t)}{2}\n",
    "$ \n",
    "\n",
    "$u^*(t) = \\min(M_2,\\max (M_1, \\frac{C\\lambda(t)}{2}))$"
   ]
  },
  {
   "cell_type": "code",
   "execution_count": 1,
   "metadata": {},
   "outputs": [],
   "source": [
    "import numpy as np\n",
    "import matplotlib.pyplot as plt"
   ]
  },
  {
   "cell_type": "code",
   "execution_count": 15,
   "metadata": {},
   "outputs": [],
   "source": [
    "class boundedCase():\n",
    "    \n",
    "    def __init__(self,A,C,M1,M2,x0):\n",
    "        self.A = A\n",
    "        self.C = C\n",
    "        self.M1 = M1\n",
    "        self.M2 = M2\n",
    "        self.x0 = x0\n",
    "        \n",
    "    def u(self,t,x,adj):\n",
    "        a =  max(self.M1,self.C*adj/2)\n",
    "        return min(self.M2,a)\n",
    "    \n",
    "    def dx(self,t,x,adj):\n",
    "        return -1/2*x**2 + self.C*self.u(t,x,adj)\n",
    "    \n",
    "    def dadj(self,t,x,adj):\n",
    "        return adj*x - self.A\n",
    "    \n",
    "    def runge_kutta_state(self,t,x,adj,N,h):\n",
    "\n",
    "        for k in range(N):\n",
    "            k1 = self.dx(t[k],x[k],adj[k])\n",
    "            k2 = self.dx(t[k]+h/2,x[k] + h*k1/2,adj[k])\n",
    "            k3 = self.dx(t[k]+h/2,x[k]+h*k2/2,adj[k])\n",
    "            k4 = self.dx(t[k] + h, x[k] + h*k3, adj[k])\n",
    "            x[k+1] = x[k] + (h/6)*(k1 + 2*k2 + 2*k3 + k4)\n",
    "        return x\n",
    "\n",
    "    def runge_kutta_adj(self,t,x,adj,N,h):\n",
    "    \n",
    "        for k in range(N,0,-1):\n",
    "            k1 = self.dadj(t[k],x[k],adj[k])\n",
    "            k2 = self.dadj(t[k] - h/2,x[k],adj[k] + h*k1/2)\n",
    "            k3 = self.dadj(t[k] - h/2,x[k],adj[k]+h*k2/2)\n",
    "            k4 = self.dadj(t[k] - h, x[k],adj[k] + h*k3)\n",
    "            adj[k-1] = adj[k] - (h/6)*(k1 + 2*k2 + 2*k3 + k4)\n",
    "        return adj\n",
    "    \n",
    "    def solve(self):\n",
    "        #parameters\n",
    "        N = 100\n",
    "        h = 1/N\n",
    "        delta = 0.1\n",
    "        test = -1\n",
    "        t = np.linspace(0,1,N + 1)\n",
    "        \n",
    "        #variables\n",
    "        x = np.zeros(N + 1)\n",
    "        adj = np.zeros(N + 1)\n",
    "        u = np.zeros(N + 1)\n",
    "        x[0] = self.x0\n",
    "        adj[-1] = 0\n",
    "\n",
    "        while test < 0:\n",
    "        \n",
    "            old_u = u.copy()\n",
    "            old_x = x.copy()\n",
    "            old_adj = adj.copy()\n",
    "        \n",
    "            x = self.runge_kutta_state(t,old_x,old_adj,N,h)\n",
    "\n",
    "            adj = self.runge_kutta_adj(t,x,old_adj,N,h)\n",
    "            \n",
    "            for i in range(len(u)): \n",
    "                u[i] = 0.5*(self.u(0,x[i],adj[i]) + old_u[i])\n",
    "\n",
    "            temp1 = delta*sum(abs(u)) - sum(abs(old_u - u))\n",
    "            temp2 = delta*sum(abs(x)) - sum(abs(old_x - x))\n",
    "            temp3 = delta*sum(abs(adj)) - sum(abs(old_adj - adj))\n",
    "            test = min(temp1,temp2,temp3)\n",
    "        \n",
    "        return t,x,u,adj"
   ]
  },
  {
   "cell_type": "markdown",
   "metadata": {},
   "source": [
    "### Patâmetros para Teste"
   ]
  },
  {
   "cell_type": "code",
   "execution_count": 19,
   "metadata": {},
   "outputs": [],
   "source": [
    "A,C,M1,M2,x0 = 1,4,0,0.5,1"
   ]
  },
  {
   "cell_type": "code",
   "execution_count": 20,
   "metadata": {},
   "outputs": [],
   "source": [
    "problem = boundedCase(A,C,M1,M2,x0)\n",
    "\n",
    "t,x,u,adj = problem.solve()"
   ]
  },
  {
   "cell_type": "code",
   "execution_count": 21,
   "metadata": {},
   "outputs": [
    {
     "data": {
      "image/png": "[encoded data removed]",
      "text/plain": [
       "<Figure size 864x720 with 3 Axes>"
      ]
     },
     "metadata": {
      "needs_background": "light"
     },
     "output_type": "display_data"
    }
   ],
   "source": [
    "fig = plt.figure(figsize=(12,10))\n",
    "plt.subplot(3,1,1)\n",
    "plt.plot(t, x)\n",
    "plt.title('State')\n",
    "plt.subplot(3,1,2)\n",
    "plt.plot(t, adj)\n",
    "plt.title('Adjoin')\n",
    "plt.subplot(3,1,3)\n",
    "plt.plot(t, u)\n",
    "plt.title('Control')\n",
    "plt.show()"
   ]
  },
  {
   "cell_type": "code",
   "execution_count": null,
   "metadata": {},
   "outputs": [],
   "source": []
  }
 ],
 "metadata": {
  "kernelspec": {
   "display_name": "Python 3",
   "language": "python",
   "name": "python3"
  },
  "language_info": {
   "codemirror_mode": {
    "name": "ipython",
    "version": 3
   },
   "file_extension": ".py",
   "mimetype": "text/x-python",
   "name": "python",
   "nbconvert_exporter": "python",
   "pygments_lexer": "ipython3",
   "version": "3.7.3"
  }
 },
 "nbformat": 4,
 "nbformat_minor": 2
}
