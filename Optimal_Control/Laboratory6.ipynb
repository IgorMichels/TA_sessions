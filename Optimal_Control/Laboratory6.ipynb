{
  "nbformat": 4,
  "nbformat_minor": 0,
  "metadata": {
    "colab": {
      "name": "Laboratory6.ipynb",
      "provenance": [],
      "collapsed_sections": [],
      "include_colab_link": true
    },
    "kernelspec": {
      "name": "python3",
      "display_name": "Python 3"
    }
  },
  "cells": [
    {
      "cell_type": "markdown",
      "metadata": {
        "id": "view-in-github",
        "colab_type": "text"
      },
      "source": [
        "<a href=\"https://colab.research.google.com/github/lucasmoschen/Math_Topics/blob/master/Optimal_Control/Laboratory6.ipynb\" target=\"_parent\"><img src=\"https://colab.research.google.com/assets/colab-badge.svg\" alt=\"Open In Colab\"/></a>"
      ]
    },
    {
      "cell_type": "markdown",
      "metadata": {
        "id": "pb8mmEk7PGxu",
        "colab_type": "text"
      },
      "source": [
        "# Laboratory 6\n",
        "\n",
        "## Mold and Fungicide\n",
        "\n",
        "Aqui, nós queremos resolver a equação: \n",
        "\n",
        "\\begin{equation}\n",
        "    \\begin{cases}\n",
        "    \\min_u \\int_0^T (Ax(t)^2 + u(t)^2) dt \\\\\n",
        "    s.a.~~ x'(t) = r(M - x(t)) - u(t)x(t), x(0) = x_0\n",
        "    \\end{cases}\n",
        "\\end{equation}\n",
        "\n",
        "Para isso, utilizo meus cohecimentos até agora desenvolvidos. Noto que $f$ não é côncavo com relação a $u$, logo não posso afirmar nada sobre a existência a priori. \n",
        "\n",
        "$H(t,x,u,\\lambda) := (Ax(t)^2 + u(t)^2) + \\lambda(t)(r(M - x(t)) - u(t)x(t))$\n",
        "\n",
        "$\\frac{\\partial H}{\\partial u} = 0 \\implies 2u(t) -\\lambda(t)x(t) = 0 \\implies u^*(t) = \\frac{1}{2}\\lambda(t)x(t) $\n",
        "\n",
        "$\\frac{\\partial H}{\\partial x} = 2Ax(t) - r\\lambda(t) - u(t)\\lambda(t) = - \\lambda '(t) \\implies \\lambda '(t) = -2Ax(t) + r\\lambda(t) + \\frac{1}{2}\\lambda(t)^2x(t) $ \n",
        "\n",
        "$\\lambda(T) = 0$"
      ]
    },
    {
      "cell_type": "code",
      "metadata": {
        "id": "_IMpFHtPWMpt",
        "colab_type": "code",
        "colab": {}
      },
      "source": [
        "import numpy as np\n",
        "import matplotlib.pyplot as plt"
      ],
      "execution_count": 0,
      "outputs": []
    },
    {
      "cell_type": "code",
      "metadata": {
        "id": "Qto4fP6VPGKC",
        "colab_type": "code",
        "colab": {}
      },
      "source": [
        "class mold():\n",
        "\n",
        "  def __init__(self,A,r,M,x0,T):\n",
        "    self.A = A\n",
        "    self.r = r\n",
        "    self.M = M\n",
        "    self.x0 = x0\n",
        "    self.T = T\n",
        "\n",
        "  def us(self,t,adj,x):\n",
        "    return 0.5*adj*x\n",
        "  \n",
        "  def dx(self,t,adj,x):\n",
        "    return self.r*(self.M - x) - self.us(t,adj,x)*x\n",
        "\n",
        "  def dadj(self,t,adj,x):\n",
        "    return -2*self.A*x + self.r*adj + self.us(t,adj,x)*adj\n",
        "\n",
        "  def runge_kutta_state(self,t,adj,x,N,h):\n",
        "\n",
        "    for k in range(N):\n",
        "          k1 = self.dx(t[k],adj[k],x[k])\n",
        "          k2 = self.dx(t[k]+h/2,adj[k],x[k] + h*k1/2)\n",
        "          k3 = self.dx(t[k]+h/2,adj[k],x[k]+h*k2/2)\n",
        "          k4 = self.dx(t[k] + h, adj[k],x[k] + h*k3)\n",
        "          x[k+1] = x[k] + (h/6)*(k1 + 2*k2 + 2*k3 + k4)\n",
        "    return x\n",
        "\n",
        "  def runge_kutta_adj(self,t,adj,x,N,h):\n",
        "    \n",
        "    for k in range(N,0,-1):\n",
        "          k1 = self.dadj(t[k],adj[k],x[k])\n",
        "          k2 = self.dadj(t[k] - h/2,adj[k] + h*k1/2,x[k])\n",
        "          k3 = self.dadj(t[k] - h/2,adj[k]+h*k2/2,x[k])\n",
        "          k4 = self.dadj(t[k] - h, adj[k] + h*k3,x[k])\n",
        "          adj[k-1] = adj[k] - (h/6)*(k1 + 2*k2 + 2*k3 + k4)\n",
        "    return adj\n",
        "\n",
        "  def solve(self):\n",
        "    #parameters\n",
        "    N = 100\n",
        "    h = 1/N\n",
        "    delta = 0.1\n",
        "    test = -1\n",
        "    t = np.linspace(0,T,N + 1)\n",
        "    #variables\n",
        "    x = np.zeros(N + 1)\n",
        "    adj = np.zeros(N + 1)\n",
        "    u = np.zeros(N + 1)\n",
        "    x[0] = self.x0\n",
        "\n",
        "    while test < 0:\n",
        "        \n",
        "        old_u = u.copy()\n",
        "        old_x = x.copy()\n",
        "        old_adj = adj.copy()\n",
        "        \n",
        "        x = self.runge_kutta_state(t,old_adj,old_x,N,h)\n",
        "\n",
        "        adj = self.runge_kutta_adj(t,old_adj,x,N,h)\n",
        "\n",
        "        u = 0.5*(self.us(0,adj,x) + old_u)\n",
        "\n",
        "        temp1 = delta*sum(abs(u)) - sum(abs(old_u - u))\n",
        "        temp2 = delta*sum(abs(x)) - sum(abs(old_x - x))\n",
        "        temp3 = delta*sum(abs(adj)) - sum(abs(old_adj - adj))\n",
        "        test = min(temp1,temp2,temp3)\n",
        "        \n",
        "    return t,x,u,adj"
      ],
      "execution_count": 0,
      "outputs": []
    },
    {
      "cell_type": "markdown",
      "metadata": {
        "id": "R3MZXIDxWSpW",
        "colab_type": "text"
      },
      "source": [
        "Parâmetros"
      ]
    },
    {
      "cell_type": "code",
      "metadata": {
        "id": "LL1nHIRRWHXC",
        "colab_type": "code",
        "colab": {}
      },
      "source": [
        "A,r,M,x0,T = 10,0.3,10,1,5"
      ],
      "execution_count": 0,
      "outputs": []
    },
    {
      "cell_type": "code",
      "metadata": {
        "id": "CtdzEYJjWfK8",
        "colab_type": "code",
        "colab": {}
      },
      "source": [
        "problem = mold(A,r,M,x0,T)\n",
        "t,x,u,adj = problem.solve()"
      ],
      "execution_count": 0,
      "outputs": []
    },
    {
      "cell_type": "code",
      "metadata": {
        "id": "mDPA0cmiWuId",
        "colab_type": "code",
        "colab": {
          "base_uri": "https://localhost:8080/",
          "height": 607
        },
        "outputId": "2a3950d6-3bf9-4113-ca9a-17b6050be7a9"
      },
      "source": [
        "fig = plt.figure(figsize=(12,10))\n",
        "plt.subplot(3,1,1)\n",
        "plt.plot(t, x)\n",
        "plt.title('State')\n",
        "plt.subplot(3,1,2)\n",
        "plt.plot(t, adj)\n",
        "plt.title('Adjoin')\n",
        "plt.subplot(3,1,3)\n",
        "plt.plot(t, u)\n",
        "plt.title('Control')\n",
        "plt.show()"
      ],
      "execution_count": 181,
      "outputs": [
        {
          "output_type": "display_data",
          "data": {
            "image/png": "[encoded data removed]",
            "text/plain": [
              "<Figure size 864x720 with 3 Axes>"
            ]
          },
          "metadata": {
            "tags": []
          }
        }
      ]
    },
    {
      "cell_type": "code",
      "metadata": {
        "id": "glZb6s63kDAo",
        "colab_type": "code",
        "colab": {}
      },
      "source": [
        ""
      ],
      "execution_count": 0,
      "outputs": []
    }
  ]
}
