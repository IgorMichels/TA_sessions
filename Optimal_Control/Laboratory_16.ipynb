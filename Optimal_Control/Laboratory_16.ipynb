{
 "cells": [
  {
   "cell_type": "markdown",
   "metadata": {},
   "source": [
    "# Glucose Model"
   ]
  },
  {
   "cell_type": "markdown",
   "metadata": {},
   "source": [
    "    In this lab, we examine an ill-conditioned problem with this type of behavior. Ackerman studied a model of the blood regulatory system to improve the ability of the GTT (glucose tolerance test) to detect pre-diabetics and mild diabetics. "
   ]
  },
  {
   "cell_type": "markdown",
   "metadata": {},
   "source": [
    "Consider $g(t)$ the concentration of blood glucose and $h(t)$ the net hormonal concentration.\n",
    "\n",
    "Also, $c_1,c_2,c_3 \\leq 0, c4 \\geq 0 $. For diabets, $c_4 = 0$ is a good assumption.\n"
   ]
  },
  {
   "cell_type": "markdown",
   "metadata": {},
   "source": [
    "$$g'(t) = c_1g(t) + c_2h(t)$$\n",
    "$$h'(t) = c_4g(t) + c_4h(t)$$\n",
    "\n",
    "We'll try to find the insulin level, $u(t)$ which will minimize the difference between $g$ and the desired level $l$.  "
   ]
  },
  {
   "cell_type": "markdown",
   "metadata": {},
   "source": [
    "### Problem "
   ]
  },
  {
   "cell_type": "markdown",
   "metadata": {},
   "source": [
    "$$ \\min_u \\int_0^T A(g(t) - l)^2 + u(t)^2 dt,$$\n",
    "\n",
    "$$ g'(t) = -ag(t) - bh(t), g(0) = g_{0} > 0,$$\n",
    "\n",
    "$$h'(t) = - cg(t) + u(t), x_2(0) = 0,$$\n",
    "\n",
    "$$a,b,c > 0, A \\geq 0 $$"
   ]
  },
  {
   "cell_type": "markdown",
   "metadata": {},
   "source": [
    "##### importing modules"
   ]
  },
  {
   "cell_type": "code",
   "execution_count": 1,
   "metadata": {},
   "outputs": [],
   "source": [
    "import sympy as sp\n",
    "import numpy as np\n",
    "import matplotlib.pyplot as plt\n",
    "sp.init_printing(use_unicode = True)"
   ]
  },
  {
   "cell_type": "code",
   "execution_count": 11,
   "metadata": {},
   "outputs": [],
   "source": [
    "g, h, u, l1, l2, A, l, a, b, c = sp.symbols('g h u l1 l2 A l a b c')\n",
    "H = - A*(g - l)**2 + u**2 + l1*(-a*g - b*h) + l2*(-c*g + u)"
   ]
  },
  {
   "cell_type": "markdown",
   "metadata": {},
   "source": [
    "### State Conditions"
   ]
  },
  {
   "cell_type": "code",
   "execution_count": 12,
   "metadata": {},
   "outputs": [
    {
     "data": {
      "image/png": "[encoded data removed]",
      "text/latex": [
       "$\\displaystyle \\left( - a g - b h, \\  - c g + u\\right)$"
      ],
      "text/plain": [
       "(-a⋅g - b⋅h, -c⋅g + u)"
      ]
     },
     "execution_count": 12,
     "metadata": {},
     "output_type": "execute_result"
    }
   ],
   "source": [
    "sp.diff(H,l1), sp.diff(H,l2)"
   ]
  },
  {
   "cell_type": "markdown",
   "metadata": {},
   "source": [
    "### Adjoint Conditions"
   ]
  },
  {
   "cell_type": "code",
   "execution_count": 13,
   "metadata": {},
   "outputs": [
    {
     "data": {
      "image/png": "[encoded data removed]",
      "text/latex": [
       "$\\displaystyle \\left( A \\left(2 g - 2 l\\right) + a l_{1} + c l_{2}, \\  b l_{1}\\right)$"
      ],
      "text/plain": [
       "(A⋅(2⋅g - 2⋅l) + a⋅l₁ + c⋅l₂, b⋅l₁)"
      ]
     },
     "execution_count": 13,
     "metadata": {},
     "output_type": "execute_result"
    }
   ],
   "source": [
    "dl1 = (-1)*sp.diff(H,g)\n",
    "dl2 = (-1)*sp.diff(H,h)\n",
    "dl1, dl2"
   ]
  },
  {
   "cell_type": "markdown",
   "metadata": {},
   "source": [
    "### Control Conditions"
   ]
  },
  {
   "cell_type": "code",
   "execution_count": 15,
   "metadata": {},
   "outputs": [
    {
     "data": {
      "image/png": "[encoded data removed]",
      "text/latex": [
       "$\\displaystyle \\left( l_{2} + 2 u, \\  - \\frac{l_{2}}{2}\\right)$"
      ],
      "text/plain": [
       "⎛          -l₂ ⎞\n",
       "⎜l₂ + 2⋅u, ────⎟\n",
       "⎝           2  ⎠"
      ]
     },
     "execution_count": 15,
     "metadata": {},
     "output_type": "execute_result"
    }
   ],
   "source": [
    "du = sp.diff(H,u)\n",
    "U = -l2/2\n",
    "du,U"
   ]
  }
 ],
 "metadata": {
  "kernelspec": {
   "display_name": "Python 3",
   "language": "python",
   "name": "python3"
  },
  "language_info": {
   "codemirror_mode": {
    "name": "ipython",
    "version": 3
   },
   "file_extension": ".py",
   "mimetype": "text/x-python",
   "name": "python",
   "nbconvert_exporter": "python",
   "pygments_lexer": "ipython3",
   "version": "3.7.3"
  }
 },
 "nbformat": 4,
 "nbformat_minor": 2
}
