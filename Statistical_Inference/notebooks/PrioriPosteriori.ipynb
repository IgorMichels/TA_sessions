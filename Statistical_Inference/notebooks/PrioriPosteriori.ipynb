{
 "metadata": {
  "language_info": {
   "codemirror_mode": {
    "name": "ipython",
    "version": 3
   },
   "file_extension": ".py",
   "mimetype": "text/x-python",
   "name": "python",
   "nbconvert_exporter": "python",
   "pygments_lexer": "ipython3",
   "version": 3
  },
  "orig_nbformat": 2
 },
 "nbformat": 4,
 "nbformat_minor": 2,
 "cells": [
  {
   "cell_type": "markdown",
   "metadata": {},
   "source": [
    "# Distribuições a Priori e a Posteriori\n",
    "\n",
    "## Priori \n",
    "\n",
    "Tratamos $\\theta$ de um modelo como uma variável aleatória e atribuimos uma distribuição para esse parâmetro. O nome será distribuição a priori. Ao fazer modelagens, ela é em geral pré-definida pelo modelador, que é em geral aconselhado por um especialista. \n",
    "\n",
    "## Posteriori \n",
    "\n",
    "Sejam $X_1, ..., X_n$ v.a. observadas e um parâmetro $\\theta$ desconhecido. A distribuição de $\\theta$ condicionado nas variáveis aleatórias é a distribuição a posteriori. Observe a relação com o Teorema de Bayes. \n",
    "\n",
    "### Teorema \n",
    "\n",
    "Seuponha que $X_1, ..., X_n$ formam uma amostra aleatória de uma distribuição $f(x|\\theta)$. Suponha que o parâmetro seja desconhecido e que a distribuição da priori seja $\\xi(\\theta)$. Então, a distribuição a posteriori é:\n",
    "\n",
    "$$\\xi(\\theta|x) = \\frac{f(x_1|\\theta)...f(x_n|\\theta)\\xi(\\theta)}{g_n(\\theta)}, \\theta \\in \\Omega$$\n",
    "\n",
    "Onde $g_n$ é a distribuição marginal conjunta de $X_1,...,X_n$\n",
    "\n",
    "Observe que, essencialmente $\\xi(\\theta|x) \\propto f(x_1|\\theta)...f(x_n|\\theta)\\xi(\\theta)$, mas que sua integral seja $1$. Queremos que essa função seja integrável e a integral sobre o domínio seja $1$. \n",
    "\n",
    "## Função de Verossimilhança\n",
    "\n",
    "Quando a função de densidade de probabilidade $f_n(x|\\theta)$ das observações de uma amostra aleatória é vista como uma função de $\\theta$, chamamos ela de função de verossimilhança.\n",
    "\n",
    "$$\n",
    "\\theta \\mapsto f_n(x|\\theta) := L(\\theta|x)\n",
    "$$\n",
    "\n",
    "## Observações Sequenciais e Predições\n",
    "\n",
    "Nesse caso a ordem das variáveis $X_1, ..., X_n$ importam (como uma série temporal, por exemplo). Nesse caso, podemos, iterativamente fazer: \n",
    "\n",
    "$$\\xi(\\theta|x_1) \\propto f(x_1|\\theta)\\xi(\\theta)$$\n",
    "$$\\xi(\\theta|x_1,...,x_{n+1}) \\propto f(x_n|\\theta)\\xi(\\theta|x_1,....,x_n)$$\n",
    "\n",
    "Isso acontece dada a independência das variáveis aleatórias."
   ]
  },
  {
   "cell_type": "code",
   "execution_count": null,
   "metadata": {},
   "outputs": [],
   "source": []
  }
 ]
}