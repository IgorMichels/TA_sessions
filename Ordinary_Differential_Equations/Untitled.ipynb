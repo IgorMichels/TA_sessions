{
 "cells": [
  {
   "cell_type": "markdown",
   "metadata": {},
   "source": [
    "# Sistemas Lineares\n",
    "\n",
    "Considere o sistema $X' = AX$ onde $A$ é uma matriz com coeficientes constantes e reais. Estamos preocupados encontrar a solução geral das matrizes. \n",
    "\n",
    "De forma geral, podemos provar que $X(t) = e^AtX(0)$ é a solução geral para o sistema. Podemos, entretanto, separar nossas soluções em três casos para entender o comportamento. De fato, podemos repartir cada caso em subcasos. Mas isso comentaremos depois\n",
    "\n",
    "- Caso 1: A tem autovalores reais e diferentes e se iguais, os autovetores correspondentes são linearmente independentes. \n",
    "\n",
    "- Caso 2: A tem autovalores repetidos (portanto reais)\n",
    "\n",
    "- Caso 3: A tem autovalores com parte complexa diferente de 0\n"
   ]
  },
  {
   "cell_type": "code",
   "execution_count": 1,
   "metadata": {},
   "outputs": [],
   "source": [
    "import numpy as np\n",
    "from matplotlib import pyplot as plt\n",
    "import scipy as sp\n",
    "from scipy.linalg import expm\n",
    "\n",
    "plt.style.use('ggplot')"
   ]
  },
  {
   "cell_type": "markdown",
   "metadata": {},
   "source": [
    "### Exemplo 1"
   ]
  },
  {
   "cell_type": "markdown",
   "metadata": {},
   "source": [
    "Seja $A$ uma matriz. Vamos verificar os autovalores"
   ]
  },
  {
   "cell_type": "code",
   "execution_count": 2,
   "metadata": {},
   "outputs": [],
   "source": [
    "A = np.matrix([[3,4],[1,2]])\n",
    "eigenvalues = np.linalg.eig(A)[0]"
   ]
  },
  {
   "cell_type": "code",
   "execution_count": 3,
   "metadata": {},
   "outputs": [
    {
     "name": "stdout",
     "output_type": "stream",
     "text": [
      "[4.56155281 0.43844719]\n"
     ]
    }
   ],
   "source": [
    "print(eigenvalues)"
   ]
  },
  {
   "cell_type": "markdown",
   "metadata": {},
   "source": [
    "Podemos calcular a exponencial de uma matrix com essa função de scipy. ELa é diferente da exponencial de uma matrix de numpy, que retorna a exponencial termo a termo."
   ]
  },
  {
   "cell_type": "code",
   "execution_count": 4,
   "metadata": {},
   "outputs": [
    {
     "name": "stdout",
     "output_type": "stream",
     "text": [
      "[[60.06236941 91.36968965]\n",
      " [22.84242241 37.219947  ]]\n",
      "[[20.08553692 54.59815003]\n",
      " [ 2.71828183  7.3890561 ]]\n"
     ]
    }
   ],
   "source": [
    "print(expm(A))\n",
    "print(np.exp(A))"
   ]
  },
  {
   "cell_type": "code",
   "execution_count": 36,
   "metadata": {},
   "outputs": [
    {
     "data": {
      "image/png": "[encoded data removed]",
      "text/plain": [
       "<Figure size 432x288 with 1 Axes>"
      ]
     },
     "metadata": {
      "needs_background": "light"
     },
     "output_type": "display_data"
    }
   ],
   "source": [
    "X = lambda t,X0: expm(A*t)*X0\n",
    "\n",
    "time = np.linspace(-10,10,1000)\n",
    "\n",
    "f = plt.figure()\n",
    "vcolors = plt.cm.hot(np.linspace(0.1, 0.8, 20))\n",
    "\n",
    "for c in vcolors:\n",
    "    X0 = [np.random.randint(-10,2), np.random.randint(-20,20)]\n",
    "    x,y = list(),list()\n",
    "    for t in time: \n",
    "        x.append(X(t,X0)[0,0])\n",
    "        y.append(X(t,X0)[1,0])\n",
    "    plt.plot(x,y,color = c)\n",
    "\n",
    "plt.xlim(-10,10)\n",
    "plt.ylim(-10,10)\n",
    "plt.show()"
   ]
  },
  {
   "cell_type": "code",
   "execution_count": 39,
   "metadata": {},
   "outputs": [
    {
     "data": {
      "text/plain": [
       "(array([-0.37228132,  5.37228132]), matrix([[-0.90937671, -0.56576746],\n",
       "         [ 0.41597356, -0.82456484]]))"
      ]
     },
     "execution_count": 39,
     "metadata": {},
     "output_type": "execute_result"
    }
   ],
   "source": [
    "np.linalg.eig(np.matrix([[1,3],[2,4]]))"
   ]
  },
  {
   "cell_type": "code",
   "execution_count": null,
   "metadata": {},
   "outputs": [],
   "source": []
  }
 ],
 "metadata": {
  "kernelspec": {
   "display_name": "Python 3",
   "language": "python",
   "name": "python3"
  },
  "language_info": {
   "codemirror_mode": {
    "name": "ipython",
    "version": 3
   },
   "file_extension": ".py",
   "mimetype": "text/x-python",
   "name": "python",
   "nbconvert_exporter": "python",
   "pygments_lexer": "ipython3",
   "version": "3.7.3"
  }
 },
 "nbformat": 4,
 "nbformat_minor": 4
}
